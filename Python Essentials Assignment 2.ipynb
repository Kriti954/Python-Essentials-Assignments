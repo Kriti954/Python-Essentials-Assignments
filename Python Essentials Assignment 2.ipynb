{
 "cells": [
  {
   "cell_type": "markdown",
   "metadata": {},
   "source": [
    "## Q1: Write a Python program to remove empty List from List."
   ]
  },
  {
   "cell_type": "code",
   "execution_count": 30,
   "metadata": {},
   "outputs": [
    {
     "name": "stdout",
     "output_type": "stream",
     "text": [
      "[5, 6, 3, 9]\n"
     ]
    }
   ],
   "source": [
    "list=[5, 6, [], 3, [], [], 9]\n",
    "res=[]\n",
    "for i in list:\n",
    "    if i!=[]:\n",
    "        res.append(i)\n",
    "print(res)"
   ]
  },
  {
   "cell_type": "markdown",
   "metadata": {},
   "source": [
    "## Q2: Write a Python program to remove all duplicates words from a given sentence"
   ]
  },
  {
   "cell_type": "code",
   "execution_count": 45,
   "metadata": {},
   "outputs": [
    {
     "name": "stdout",
     "output_type": "stream",
     "text": [
      "Please enter a valid string: Python is great and Java is also great\n",
      "Python is great and Java also\n"
     ]
    }
   ],
   "source": [
    "str=input('Please enter a valid string: ')\n",
    "list=str.split(' ')\n",
    "res=[]\n",
    "for i in list:\n",
    "    if i not in res:\n",
    "        res.append(i)\n",
    "print(' '.join(res))"
   ]
  },
  {
   "cell_type": "markdown",
   "metadata": {},
   "source": [
    "## Q3: Write a Python program to find all occurrences of a character in the given string"
   ]
  },
  {
   "cell_type": "code",
   "execution_count": 5,
   "metadata": {},
   "outputs": [
    {
     "name": "stdout",
     "output_type": "stream",
     "text": [
      "Please enter a valid string: The Avengers\n",
      "Please enter a character: e\n",
      "2 6 9 "
     ]
    }
   ],
   "source": [
    "str=input('Please enter a valid string: ')\n",
    "char=input('Please enter a character: ')\n",
    "a=-1\n",
    "for i in range(str.count(char)):\n",
    "    a=str.find(char,a+1)\n",
    "    print(a,end=\" \")"
   ]
  }
 ],
 "metadata": {
  "kernelspec": {
   "display_name": "Python 3",
   "language": "python",
   "name": "python3"
  },
  "language_info": {
   "codemirror_mode": {
    "name": "ipython",
    "version": 3
   },
   "file_extension": ".py",
   "mimetype": "text/x-python",
   "name": "python",
   "nbconvert_exporter": "python",
   "pygments_lexer": "ipython3",
   "version": "3.8.5"
  }
 },
 "nbformat": 4,
 "nbformat_minor": 4
}
