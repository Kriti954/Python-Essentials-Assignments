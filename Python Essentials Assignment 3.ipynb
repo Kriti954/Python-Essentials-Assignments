{
 "cells": [
  {
   "cell_type": "markdown",
   "metadata": {},
   "source": [
    "## Q1: Write a Python program to merge two files into a third file."
   ]
  },
  {
   "cell_type": "code",
   "execution_count": 19,
   "metadata": {},
   "outputs": [
    {
     "name": "stdout",
     "output_type": "stream",
     "text": [
      "Hi This is Python!!\n",
      "---------------------\n",
      "It is interpreted language...\n",
      "---------------------\n",
      "\n",
      "Files have been successfully merged...!!\n",
      "\n",
      "Hi This is Python!!\n",
      "It is interpreted language...\n",
      "\n"
     ]
    }
   ],
   "source": [
    "first='C:\\\\Users\\\\DELL\\\\Desktop\\\\file1.txt'\n",
    "second='C:\\\\Users\\\\DELL\\\\Desktop\\\\file2.txt'\n",
    "new='C:\\\\Users\\\\DELL\\\\Desktop\\\\file3.txt'\n",
    "for f in [first,second]:\n",
    "    with open(f,'r') as f1:\n",
    "        print(f1.read())\n",
    "        print('---------------------')\n",
    "with open(new,'w') as f2:\n",
    "    for f in [first,second]:\n",
    "        with open(f,'r') as f1:\n",
    "            f2.write(f1.read())\n",
    "            f2.write('\\n')\n",
    "print()\n",
    "print('Files have been successfully merged...!!')\n",
    "print()\n",
    "with open(new,'r') as f3:\n",
    "        print(f3.read())"
   ]
  },
  {
   "cell_type": "markdown",
   "metadata": {},
   "source": [
    "## Q2: Take two lists as input list1 = [1,2,3,4,5] and list2 = [\"a\", \"b\", \"c\", \"d\", \"e\"] From that make a dictionary output {1:\"a\", 2:\"b\", 3:\"c\", 4:\"d\", 5:\"e\"}"
   ]
  },
  {
   "cell_type": "code",
   "execution_count": 4,
   "metadata": {},
   "outputs": [
    {
     "data": {
      "text/plain": [
       "{1: 'a', 2: 'b', 3: 'c', 4: 'd', 5: 'e'}"
      ]
     },
     "execution_count": 4,
     "metadata": {},
     "output_type": "execute_result"
    }
   ],
   "source": [
    "list1 = [1,2,3,4,5]\n",
    "list2 = [\"a\", \"b\", \"c\", \"d\", \"e\"]\n",
    "dict={}\n",
    "for i in range(len(list1)):\n",
    "    dict[list1[i]]=list2[i]\n",
    "dict"
   ]
  }
 ],
 "metadata": {
  "kernelspec": {
   "display_name": "Python 3",
   "language": "python",
   "name": "python3"
  },
  "language_info": {
   "codemirror_mode": {
    "name": "ipython",
    "version": 3
   },
   "file_extension": ".py",
   "mimetype": "text/x-python",
   "name": "python",
   "nbconvert_exporter": "python",
   "pygments_lexer": "ipython3",
   "version": "3.8.5"
  }
 },
 "nbformat": 4,
 "nbformat_minor": 4
}
